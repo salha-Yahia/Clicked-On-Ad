{
  "nbformat": 4,
  "nbformat_minor": 0,
  "metadata": {
    "colab": {
      "name": "Untitled6.ipynb",
      "provenance": []
    },
    "kernelspec": {
      "name": "python3",
      "display_name": "Python 3"
    },
    "language_info": {
      "name": "python"
    }
  },
  "cells": [
    {
      "cell_type": "code",
      "source": [
        "import pandas as pd\n",
        "from sklearn.preprocessing import LabelEncoder\n",
        "import sys\n",
        "import pandas as pd\n",
        "import numpy as np\n",
        "import pickle as pickle\n",
        "import warnings\n",
        "warnings.filterwarnings(\"ignore\")\n",
        "from matplotlib import pyplot as plt\n",
        "\n",
        "import matplotlib.pyplot as plt\n",
        "from sklearn.model_selection import GridSearchCV, train_test_split, ShuffleSplit\n",
        "from sklearn.metrics import f1_score, accuracy_score, precision_score, classification_report, plot_confusion_matrix, confusion_matrix, make_scorer, recall_score\n",
        "from sklearn.linear_model import LogisticRegression\n",
        "from ml_models import *"
      ],
      "metadata": {
        "id": "xRWa18NPfQAn"
      },
      "execution_count": 955,
      "outputs": []
    },
    {
      "cell_type": "code",
      "source": [
        "data_csv = pd.read_csv('DataScienceChallenge.csv', sep = ',', encoding = 'latin1', error_bad_lines=False)\n",
        "data = data_csv.copy()"
      ],
      "metadata": {
        "id": "yIWWV8ObfQNY"
      },
      "execution_count": 956,
      "outputs": []
    },
    {
      "cell_type": "code",
      "source": [
        "data.head()"
      ],
      "metadata": {
        "colab": {
          "base_uri": "https://localhost:8080/",
          "height": 327
        },
        "id": "bbg0phGbfo2J",
        "outputId": "34370f51-a895-4580-823d-4a184f159d17"
      },
      "execution_count": 957,
      "outputs": [
        {
          "output_type": "execute_result",
          "data": {
            "text/html": [
              "<div>\n",
              "<style scoped>\n",
              "    .dataframe tbody tr th:only-of-type {\n",
              "        vertical-align: middle;\n",
              "    }\n",
              "\n",
              "    .dataframe tbody tr th {\n",
              "        vertical-align: top;\n",
              "    }\n",
              "\n",
              "    .dataframe thead th {\n",
              "        text-align: right;\n",
              "    }\n",
              "</style>\n",
              "<table border=\"1\" class=\"dataframe\">\n",
              "  <thead>\n",
              "    <tr style=\"text-align: right;\">\n",
              "      <th></th>\n",
              "      <th>Daily Time Spent on Site</th>\n",
              "      <th>Age</th>\n",
              "      <th>Area Income</th>\n",
              "      <th>Daily Internet Usage</th>\n",
              "      <th>Ad Topic Line</th>\n",
              "      <th>City</th>\n",
              "      <th>Male</th>\n",
              "      <th>Country</th>\n",
              "      <th>Timestamp</th>\n",
              "      <th>Clicked on Ad</th>\n",
              "    </tr>\n",
              "  </thead>\n",
              "  <tbody>\n",
              "    <tr>\n",
              "      <th>0</th>\n",
              "      <td>68.95</td>\n",
              "      <td>35</td>\n",
              "      <td>61833.90</td>\n",
              "      <td>256.09</td>\n",
              "      <td>Cloned 5thgeneration orchestration</td>\n",
              "      <td>Wrightburgh</td>\n",
              "      <td>0</td>\n",
              "      <td>Tunisia</td>\n",
              "      <td>2016-03-27 00:53:11</td>\n",
              "      <td>0</td>\n",
              "    </tr>\n",
              "    <tr>\n",
              "      <th>1</th>\n",
              "      <td>80.23</td>\n",
              "      <td>31</td>\n",
              "      <td>68441.85</td>\n",
              "      <td>193.77</td>\n",
              "      <td>Monitored national standardization</td>\n",
              "      <td>West Jodi</td>\n",
              "      <td>1</td>\n",
              "      <td>Nauru</td>\n",
              "      <td>2016-04-04 01:39:02</td>\n",
              "      <td>0</td>\n",
              "    </tr>\n",
              "    <tr>\n",
              "      <th>2</th>\n",
              "      <td>69.47</td>\n",
              "      <td>26</td>\n",
              "      <td>59785.94</td>\n",
              "      <td>236.50</td>\n",
              "      <td>Organic bottom-line service-desk</td>\n",
              "      <td>Davidton</td>\n",
              "      <td>0</td>\n",
              "      <td>San Marino</td>\n",
              "      <td>2016-03-13 20:35:42</td>\n",
              "      <td>0</td>\n",
              "    </tr>\n",
              "    <tr>\n",
              "      <th>3</th>\n",
              "      <td>74.15</td>\n",
              "      <td>29</td>\n",
              "      <td>54806.18</td>\n",
              "      <td>245.89</td>\n",
              "      <td>Triple-buffered reciprocal time-frame</td>\n",
              "      <td>West Terrifurt</td>\n",
              "      <td>1</td>\n",
              "      <td>Italy</td>\n",
              "      <td>2016-01-10 02:31:19</td>\n",
              "      <td>0</td>\n",
              "    </tr>\n",
              "    <tr>\n",
              "      <th>4</th>\n",
              "      <td>68.37</td>\n",
              "      <td>35</td>\n",
              "      <td>73889.99</td>\n",
              "      <td>225.58</td>\n",
              "      <td>Robust logistical utilization</td>\n",
              "      <td>South Manuel</td>\n",
              "      <td>0</td>\n",
              "      <td>Iceland</td>\n",
              "      <td>2016-06-03 03:36:18</td>\n",
              "      <td>0</td>\n",
              "    </tr>\n",
              "  </tbody>\n",
              "</table>\n",
              "</div>"
            ],
            "text/plain": [
              "  Daily Time Spent on Site  Age  ...            Timestamp  Clicked on Ad\n",
              "0                    68.95   35  ...  2016-03-27 00:53:11              0\n",
              "1                    80.23   31  ...  2016-04-04 01:39:02              0\n",
              "2                    69.47   26  ...  2016-03-13 20:35:42              0\n",
              "3                    74.15   29  ...  2016-01-10 02:31:19              0\n",
              "4                    68.37   35  ...  2016-06-03 03:36:18              0\n",
              "\n",
              "[5 rows x 10 columns]"
            ]
          },
          "metadata": {},
          "execution_count": 957
        }
      ]
    },
    {
      "cell_type": "code",
      "source": [
        "data.shape"
      ],
      "metadata": {
        "colab": {
          "base_uri": "https://localhost:8080/"
        },
        "id": "AFcvGpWSotIB",
        "outputId": "9bd9eff1-e576-42b6-e8cf-ef369cc219fe"
      },
      "execution_count": 958,
      "outputs": [
        {
          "output_type": "execute_result",
          "data": {
            "text/plain": [
              "(1000, 10)"
            ]
          },
          "metadata": {},
          "execution_count": 958
        }
      ]
    },
    {
      "cell_type": "code",
      "source": [
        "data.info()"
      ],
      "metadata": {
        "colab": {
          "base_uri": "https://localhost:8080/"
        },
        "id": "C1iwjR1rfryA",
        "outputId": "e90c005e-f6ee-4ac2-b662-5f48e98234bf"
      },
      "execution_count": 959,
      "outputs": [
        {
          "output_type": "stream",
          "name": "stdout",
          "text": [
            "<class 'pandas.core.frame.DataFrame'>\n",
            "RangeIndex: 1000 entries, 0 to 999\n",
            "Data columns (total 10 columns):\n",
            " #   Column                    Non-Null Count  Dtype  \n",
            "---  ------                    --------------  -----  \n",
            " 0   Daily Time Spent on Site  1000 non-null   object \n",
            " 1   Age                       1000 non-null   int64  \n",
            " 2   Area Income               1000 non-null   float64\n",
            " 3   Daily Internet Usage      900 non-null    float64\n",
            " 4   Ad Topic Line             1000 non-null   object \n",
            " 5   City                      1000 non-null   object \n",
            " 6   Male                      1000 non-null   int64  \n",
            " 7   Country                   1000 non-null   object \n",
            " 8   Timestamp                 973 non-null    object \n",
            " 9   Clicked on Ad             1000 non-null   object \n",
            "dtypes: float64(2), int64(2), object(6)\n",
            "memory usage: 78.2+ KB\n"
          ]
        }
      ]
    },
    {
      "cell_type": "code",
      "source": [
        "data.dropna(inplace=True)  "
      ],
      "metadata": {
        "id": "NHKpsuKVoggs"
      },
      "execution_count": 960,
      "outputs": []
    },
    {
      "cell_type": "code",
      "source": [
        "data.shape"
      ],
      "metadata": {
        "colab": {
          "base_uri": "https://localhost:8080/"
        },
        "id": "hw_ww7vIBRx0",
        "outputId": "c1201c4c-3fd6-4ad8-a043-9beeb4b79349"
      },
      "execution_count": 961,
      "outputs": [
        {
          "output_type": "execute_result",
          "data": {
            "text/plain": [
              "(873, 10)"
            ]
          },
          "metadata": {},
          "execution_count": 961
        }
      ]
    },
    {
      "cell_type": "code",
      "source": [
        "#data['Clicked on Ad'].unique()"
      ],
      "metadata": {
        "id": "yjzuiJzfn76x"
      },
      "execution_count": 962,
      "outputs": []
    },
    {
      "cell_type": "code",
      "source": [
        "#data['Clicked on Ad'].value_counts()"
      ],
      "metadata": {
        "id": "5o3ejHQ8o0oY"
      },
      "execution_count": 963,
      "outputs": []
    },
    {
      "cell_type": "code",
      "source": [
        "#data['Daily Time Spent on Site'].unique()"
      ],
      "metadata": {
        "id": "Q5ll7nBFw-hZ"
      },
      "execution_count": 964,
      "outputs": []
    },
    {
      "cell_type": "code",
      "source": [
        "data.shape"
      ],
      "metadata": {
        "colab": {
          "base_uri": "https://localhost:8080/"
        },
        "id": "QyjflR2YOQ3h",
        "outputId": "cd4a00b0-39a9-4c51-a6e7-6e0c921085e4"
      },
      "execution_count": 965,
      "outputs": [
        {
          "output_type": "execute_result",
          "data": {
            "text/plain": [
              "(873, 10)"
            ]
          },
          "metadata": {},
          "execution_count": 965
        }
      ]
    },
    {
      "cell_type": "code",
      "source": [
        "def is_float(value):\n",
        "  try:\n",
        "    float(value)\n",
        "    return value\n",
        "  except:\n",
        "    return False\n"
      ],
      "metadata": {
        "id": "VKN8LEr3x98c"
      },
      "execution_count": 966,
      "outputs": []
    },
    {
      "cell_type": "code",
      "source": [
        "data['Daily Time Spent on Site'] = data['Daily Time Spent on Site'].apply(lambda x: is_float(x))\n",
        "data = data[data['Daily Time Spent on Site'] != False]\n",
        "data['Daily Time Spent on Site'] = data['Daily Time Spent on Site'].apply(lambda x: float(x))\n",
        "\n",
        "data.shape"
      ],
      "metadata": {
        "colab": {
          "base_uri": "https://localhost:8080/"
        },
        "id": "Yuxmkw29yVq6",
        "outputId": "57e55066-c4be-463b-8866-4722fe2bf3ee"
      },
      "execution_count": 967,
      "outputs": [
        {
          "output_type": "execute_result",
          "data": {
            "text/plain": [
              "(859, 10)"
            ]
          },
          "metadata": {},
          "execution_count": 967
        }
      ]
    },
    {
      "cell_type": "code",
      "source": [
        "data = data[data['Daily Time Spent on Site'] != False]"
      ],
      "metadata": {
        "id": "hkL8aYM3NwYk"
      },
      "execution_count": 968,
      "outputs": []
    },
    {
      "cell_type": "code",
      "source": [
        "#data['Ad Topic Line'].unique()"
      ],
      "metadata": {
        "id": "7b6wKXFl2Rtn"
      },
      "execution_count": 969,
      "outputs": []
    },
    {
      "cell_type": "code",
      "source": [
        "#data['City'].unique()"
      ],
      "metadata": {
        "id": "dMEnn4wN2R0j"
      },
      "execution_count": 970,
      "outputs": []
    },
    {
      "cell_type": "code",
      "source": [
        "data['Country'].value_counts()"
      ],
      "metadata": {
        "colab": {
          "base_uri": "https://localhost:8080/"
        },
        "id": "aPTLfG9Y0yE6",
        "outputId": "266b21f8-73b5-48d7-ae76-e2dd98149dd8"
      },
      "execution_count": 971,
      "outputs": [
        {
          "output_type": "execute_result",
          "data": {
            "text/plain": [
              "Senegal                              8\n",
              "Afghanistan                          8\n",
              "Turkey                               8\n",
              "South Africa                         8\n",
              "Cyprus                               8\n",
              "                                    ..\n",
              "Aruba                                1\n",
              "Montserrat                           1\n",
              "Jordan                               1\n",
              "Panama                               1\n",
              "Heard Island and McDonald Islands    1\n",
              "Name: Country, Length: 233, dtype: int64"
            ]
          },
          "metadata": {},
          "execution_count": 971
        }
      ]
    },
    {
      "cell_type": "code",
      "source": [
        "country_encoder = LabelEncoder()\n",
        "country_encoder = country_encoder.fit(data['Country'])\n",
        "data['Country'] = country_encoder.transform(data['Country'])"
      ],
      "metadata": {
        "id": "fOetRVrA1L1H"
      },
      "execution_count": 972,
      "outputs": []
    },
    {
      "cell_type": "code",
      "source": [
        "city_encoder = LabelEncoder()\n",
        "city_encoder = city_encoder.fit(data['City'])\n",
        "data['City'] = city_encoder.transform(data['City'])"
      ],
      "metadata": {
        "id": "4wQgYkMNDbiT"
      },
      "execution_count": 973,
      "outputs": []
    },
    {
      "cell_type": "code",
      "source": [
        "AdTopicLine_encoder = LabelEncoder()\n",
        "AdTopicLine_encoder = AdTopicLine_encoder.fit(data['Ad Topic Line'])\n",
        "data['Ad Topic Line'] = AdTopicLine_encoder.transform(data['Ad Topic Line'])"
      ],
      "metadata": {
        "id": "MlFnmAwwDbqb"
      },
      "execution_count": 974,
      "outputs": []
    },
    {
      "cell_type": "code",
      "source": [
        "#transform date\n",
        "data['Timestamp'] = pd.to_datetime(data['Timestamp'], format='%Y/%m/%d %H:%M:%S')"
      ],
      "metadata": {
        "id": "WS-WAjxHwiMC"
      },
      "execution_count": 975,
      "outputs": []
    },
    {
      "cell_type": "code",
      "source": [
        "data['Year'] = data['Timestamp'].dt.year\n",
        "data['Hour'] = data['Timestamp'].dt.hour"
      ],
      "metadata": {
        "id": "JU2q9YzIErb8"
      },
      "execution_count": 976,
      "outputs": []
    },
    {
      "cell_type": "code",
      "source": [
        "data.Year.unique()"
      ],
      "metadata": {
        "colab": {
          "base_uri": "https://localhost:8080/"
        },
        "id": "IeEdN0pVJE84",
        "outputId": "07f0ad15-894f-4662-e9b5-e3bd4624f3c8"
      },
      "execution_count": 977,
      "outputs": [
        {
          "output_type": "execute_result",
          "data": {
            "text/plain": [
              "array([2016])"
            ]
          },
          "metadata": {},
          "execution_count": 977
        }
      ]
    },
    {
      "cell_type": "code",
      "source": [
        "data = data.drop(labels=[\"Year\", \"Timestamp\"], axis=1)"
      ],
      "metadata": {
        "id": "NGUMKm-RFips"
      },
      "execution_count": 978,
      "outputs": []
    },
    {
      "cell_type": "code",
      "source": [
        "# \n",
        "filter1 = data[data[\"Clicked on Ad\"] == '0']\n",
        "filter2 = data[data[\"Clicked on Ad\"] == '1']\n",
        "frames = [filter1, filter2]\n",
        "data_filtred = pd.concat(frames)\n",
        "data_filtred[\"Clicked on Ad\"] = data_filtred[\"Clicked on Ad\"].apply(lambda x: int(x))"
      ],
      "metadata": {
        "id": "uIqozKI_sCji"
      },
      "execution_count": 979,
      "outputs": []
    },
    {
      "cell_type": "code",
      "source": [
        "#data['Daily Internet Usage'].unique()"
      ],
      "metadata": {
        "id": "8c0356lGAY17"
      },
      "execution_count": 980,
      "outputs": []
    },
    {
      "cell_type": "code",
      "source": [
        "data_filtred.info()"
      ],
      "metadata": {
        "colab": {
          "base_uri": "https://localhost:8080/"
        },
        "id": "PFVaggIawVIK",
        "outputId": "8a28d8ce-9bea-46d1-c67b-580868d60ad2"
      },
      "execution_count": 981,
      "outputs": [
        {
          "output_type": "stream",
          "name": "stdout",
          "text": [
            "<class 'pandas.core.frame.DataFrame'>\n",
            "Int64Index: 859 entries, 0 to 999\n",
            "Data columns (total 10 columns):\n",
            " #   Column                    Non-Null Count  Dtype  \n",
            "---  ------                    --------------  -----  \n",
            " 0   Daily Time Spent on Site  859 non-null    float64\n",
            " 1   Age                       859 non-null    int64  \n",
            " 2   Area Income               859 non-null    float64\n",
            " 3   Daily Internet Usage      859 non-null    float64\n",
            " 4   Ad Topic Line             859 non-null    int64  \n",
            " 5   City                      859 non-null    int64  \n",
            " 6   Male                      859 non-null    int64  \n",
            " 7   Country                   859 non-null    int64  \n",
            " 8   Clicked on Ad             859 non-null    int64  \n",
            " 9   Hour                      859 non-null    int64  \n",
            "dtypes: float64(3), int64(7)\n",
            "memory usage: 73.8 KB\n"
          ]
        }
      ]
    },
    {
      "cell_type": "code",
      "source": [
        "data_filtred.head()"
      ],
      "metadata": {
        "colab": {
          "base_uri": "https://localhost:8080/",
          "height": 223
        },
        "id": "jOyZHIiGtHr5",
        "outputId": "56971a3b-f923-4e52-b326-0b2bedf46966"
      },
      "execution_count": 982,
      "outputs": [
        {
          "output_type": "execute_result",
          "data": {
            "text/html": [
              "<div>\n",
              "<style scoped>\n",
              "    .dataframe tbody tr th:only-of-type {\n",
              "        vertical-align: middle;\n",
              "    }\n",
              "\n",
              "    .dataframe tbody tr th {\n",
              "        vertical-align: top;\n",
              "    }\n",
              "\n",
              "    .dataframe thead th {\n",
              "        text-align: right;\n",
              "    }\n",
              "</style>\n",
              "<table border=\"1\" class=\"dataframe\">\n",
              "  <thead>\n",
              "    <tr style=\"text-align: right;\">\n",
              "      <th></th>\n",
              "      <th>Daily Time Spent on Site</th>\n",
              "      <th>Age</th>\n",
              "      <th>Area Income</th>\n",
              "      <th>Daily Internet Usage</th>\n",
              "      <th>Ad Topic Line</th>\n",
              "      <th>City</th>\n",
              "      <th>Male</th>\n",
              "      <th>Country</th>\n",
              "      <th>Clicked on Ad</th>\n",
              "      <th>Hour</th>\n",
              "    </tr>\n",
              "  </thead>\n",
              "  <tbody>\n",
              "    <tr>\n",
              "      <th>0</th>\n",
              "      <td>68.95</td>\n",
              "      <td>35</td>\n",
              "      <td>61833.90</td>\n",
              "      <td>256.09</td>\n",
              "      <td>79</td>\n",
              "      <td>832</td>\n",
              "      <td>0</td>\n",
              "      <td>211</td>\n",
              "      <td>0</td>\n",
              "      <td>0</td>\n",
              "    </tr>\n",
              "    <tr>\n",
              "      <th>1</th>\n",
              "      <td>80.23</td>\n",
              "      <td>31</td>\n",
              "      <td>68441.85</td>\n",
              "      <td>193.77</td>\n",
              "      <td>394</td>\n",
              "      <td>780</td>\n",
              "      <td>1</td>\n",
              "      <td>145</td>\n",
              "      <td>0</td>\n",
              "      <td>1</td>\n",
              "    </tr>\n",
              "    <tr>\n",
              "      <th>2</th>\n",
              "      <td>69.47</td>\n",
              "      <td>26</td>\n",
              "      <td>59785.94</td>\n",
              "      <td>236.50</td>\n",
              "      <td>486</td>\n",
              "      <td>99</td>\n",
              "      <td>0</td>\n",
              "      <td>180</td>\n",
              "      <td>0</td>\n",
              "      <td>20</td>\n",
              "    </tr>\n",
              "    <tr>\n",
              "      <th>3</th>\n",
              "      <td>74.15</td>\n",
              "      <td>29</td>\n",
              "      <td>54806.18</td>\n",
              "      <td>245.89</td>\n",
              "      <td>772</td>\n",
              "      <td>812</td>\n",
              "      <td>1</td>\n",
              "      <td>102</td>\n",
              "      <td>0</td>\n",
              "      <td>2</td>\n",
              "    </tr>\n",
              "    <tr>\n",
              "      <th>4</th>\n",
              "      <td>68.37</td>\n",
              "      <td>35</td>\n",
              "      <td>73889.99</td>\n",
              "      <td>225.58</td>\n",
              "      <td>653</td>\n",
              "      <td>693</td>\n",
              "      <td>0</td>\n",
              "      <td>95</td>\n",
              "      <td>0</td>\n",
              "      <td>3</td>\n",
              "    </tr>\n",
              "  </tbody>\n",
              "</table>\n",
              "</div>"
            ],
            "text/plain": [
              "   Daily Time Spent on Site  Age  Area Income  ...  Country  Clicked on Ad  Hour\n",
              "0                     68.95   35     61833.90  ...      211              0     0\n",
              "1                     80.23   31     68441.85  ...      145              0     1\n",
              "2                     69.47   26     59785.94  ...      180              0    20\n",
              "3                     74.15   29     54806.18  ...      102              0     2\n",
              "4                     68.37   35     73889.99  ...       95              0     3\n",
              "\n",
              "[5 rows x 10 columns]"
            ]
          },
          "metadata": {},
          "execution_count": 982
        }
      ]
    },
    {
      "cell_type": "code",
      "source": [
        "data_filtred.info()"
      ],
      "metadata": {
        "colab": {
          "base_uri": "https://localhost:8080/"
        },
        "id": "Cemj9kGNj5zr",
        "outputId": "591ac556-b6c3-49bf-ba0e-944bd993599f"
      },
      "execution_count": 983,
      "outputs": [
        {
          "output_type": "stream",
          "name": "stdout",
          "text": [
            "<class 'pandas.core.frame.DataFrame'>\n",
            "Int64Index: 859 entries, 0 to 999\n",
            "Data columns (total 10 columns):\n",
            " #   Column                    Non-Null Count  Dtype  \n",
            "---  ------                    --------------  -----  \n",
            " 0   Daily Time Spent on Site  859 non-null    float64\n",
            " 1   Age                       859 non-null    int64  \n",
            " 2   Area Income               859 non-null    float64\n",
            " 3   Daily Internet Usage      859 non-null    float64\n",
            " 4   Ad Topic Line             859 non-null    int64  \n",
            " 5   City                      859 non-null    int64  \n",
            " 6   Male                      859 non-null    int64  \n",
            " 7   Country                   859 non-null    int64  \n",
            " 8   Clicked on Ad             859 non-null    int64  \n",
            " 9   Hour                      859 non-null    int64  \n",
            "dtypes: float64(3), int64(7)\n",
            "memory usage: 73.8 KB\n"
          ]
        }
      ]
    },
    {
      "cell_type": "code",
      "source": [
        "correlation_df = data_filtred.corr()\n",
        "correlation_df.style.background_gradient(cmap='coolwarm').set_precision(2)"
      ],
      "metadata": {
        "colab": {
          "base_uri": "https://localhost:8080/",
          "height": 415
        },
        "id": "Ay3n2G9Az1rB",
        "outputId": "16fbf29a-56dd-44e8-8647-69e3e7679d72"
      },
      "execution_count": 984,
      "outputs": [
        {
          "output_type": "execute_result",
          "data": {
            "text/html": [
              "<style  type=\"text/css\" >\n",
              "#T_95c80b78_58a0_11ec_b60a_0242ac1c0002row0_col0,#T_95c80b78_58a0_11ec_b60a_0242ac1c0002row1_col1,#T_95c80b78_58a0_11ec_b60a_0242ac1c0002row2_col2,#T_95c80b78_58a0_11ec_b60a_0242ac1c0002row3_col3,#T_95c80b78_58a0_11ec_b60a_0242ac1c0002row4_col4,#T_95c80b78_58a0_11ec_b60a_0242ac1c0002row5_col5,#T_95c80b78_58a0_11ec_b60a_0242ac1c0002row6_col6,#T_95c80b78_58a0_11ec_b60a_0242ac1c0002row7_col7,#T_95c80b78_58a0_11ec_b60a_0242ac1c0002row8_col8,#T_95c80b78_58a0_11ec_b60a_0242ac1c0002row9_col9{\n",
              "            background-color:  #b40426;\n",
              "            color:  #f1f1f1;\n",
              "        }#T_95c80b78_58a0_11ec_b60a_0242ac1c0002row0_col1{\n",
              "            background-color:  #455cce;\n",
              "            color:  #f1f1f1;\n",
              "        }#T_95c80b78_58a0_11ec_b60a_0242ac1c0002row0_col2{\n",
              "            background-color:  #e6d7cf;\n",
              "            color:  #000000;\n",
              "        }#T_95c80b78_58a0_11ec_b60a_0242ac1c0002row0_col3{\n",
              "            background-color:  #f6a283;\n",
              "            color:  #000000;\n",
              "        }#T_95c80b78_58a0_11ec_b60a_0242ac1c0002row0_col4,#T_95c80b78_58a0_11ec_b60a_0242ac1c0002row3_col7{\n",
              "            background-color:  #4358cb;\n",
              "            color:  #f1f1f1;\n",
              "        }#T_95c80b78_58a0_11ec_b60a_0242ac1c0002row0_col5,#T_95c80b78_58a0_11ec_b60a_0242ac1c0002row7_col5,#T_95c80b78_58a0_11ec_b60a_0242ac1c0002row9_col4{\n",
              "            background-color:  #465ecf;\n",
              "            color:  #f1f1f1;\n",
              "        }#T_95c80b78_58a0_11ec_b60a_0242ac1c0002row0_col6,#T_95c80b78_58a0_11ec_b60a_0242ac1c0002row1_col6,#T_95c80b78_58a0_11ec_b60a_0242ac1c0002row1_col9,#T_95c80b78_58a0_11ec_b60a_0242ac1c0002row2_col4,#T_95c80b78_58a0_11ec_b60a_0242ac1c0002row2_col5,#T_95c80b78_58a0_11ec_b60a_0242ac1c0002row3_col1,#T_95c80b78_58a0_11ec_b60a_0242ac1c0002row3_col8,#T_95c80b78_58a0_11ec_b60a_0242ac1c0002row4_col5,#T_95c80b78_58a0_11ec_b60a_0242ac1c0002row5_col4,#T_95c80b78_58a0_11ec_b60a_0242ac1c0002row6_col7,#T_95c80b78_58a0_11ec_b60a_0242ac1c0002row8_col0,#T_95c80b78_58a0_11ec_b60a_0242ac1c0002row8_col2,#T_95c80b78_58a0_11ec_b60a_0242ac1c0002row8_col3{\n",
              "            background-color:  #3b4cc0;\n",
              "            color:  #f1f1f1;\n",
              "        }#T_95c80b78_58a0_11ec_b60a_0242ac1c0002row0_col7,#T_95c80b78_58a0_11ec_b60a_0242ac1c0002row0_col8,#T_95c80b78_58a0_11ec_b60a_0242ac1c0002row5_col7,#T_95c80b78_58a0_11ec_b60a_0242ac1c0002row6_col4,#T_95c80b78_58a0_11ec_b60a_0242ac1c0002row8_col9{\n",
              "            background-color:  #4257c9;\n",
              "            color:  #f1f1f1;\n",
              "        }#T_95c80b78_58a0_11ec_b60a_0242ac1c0002row0_col9,#T_95c80b78_58a0_11ec_b60a_0242ac1c0002row9_col5{\n",
              "            background-color:  #4b64d5;\n",
              "            color:  #f1f1f1;\n",
              "        }#T_95c80b78_58a0_11ec_b60a_0242ac1c0002row1_col0{\n",
              "            background-color:  #88abfd;\n",
              "            color:  #000000;\n",
              "        }#T_95c80b78_58a0_11ec_b60a_0242ac1c0002row1_col2{\n",
              "            background-color:  #7a9df8;\n",
              "            color:  #000000;\n",
              "        }#T_95c80b78_58a0_11ec_b60a_0242ac1c0002row1_col3{\n",
              "            background-color:  #85a8fc;\n",
              "            color:  #000000;\n",
              "        }#T_95c80b78_58a0_11ec_b60a_0242ac1c0002row1_col4,#T_95c80b78_58a0_11ec_b60a_0242ac1c0002row7_col6,#T_95c80b78_58a0_11ec_b60a_0242ac1c0002row8_col7{\n",
              "            background-color:  #3e51c5;\n",
              "            color:  #f1f1f1;\n",
              "        }#T_95c80b78_58a0_11ec_b60a_0242ac1c0002row1_col5,#T_95c80b78_58a0_11ec_b60a_0242ac1c0002row5_col6,#T_95c80b78_58a0_11ec_b60a_0242ac1c0002row6_col5{\n",
              "            background-color:  #445acc;\n",
              "            color:  #f1f1f1;\n",
              "        }#T_95c80b78_58a0_11ec_b60a_0242ac1c0002row1_col7,#T_95c80b78_58a0_11ec_b60a_0242ac1c0002row3_col5,#T_95c80b78_58a0_11ec_b60a_0242ac1c0002row4_col6{\n",
              "            background-color:  #4055c8;\n",
              "            color:  #f1f1f1;\n",
              "        }#T_95c80b78_58a0_11ec_b60a_0242ac1c0002row1_col8{\n",
              "            background-color:  #f7a688;\n",
              "            color:  #000000;\n",
              "        }#T_95c80b78_58a0_11ec_b60a_0242ac1c0002row2_col0{\n",
              "            background-color:  #f2c9b4;\n",
              "            color:  #000000;\n",
              "        }#T_95c80b78_58a0_11ec_b60a_0242ac1c0002row2_col1,#T_95c80b78_58a0_11ec_b60a_0242ac1c0002row3_col9,#T_95c80b78_58a0_11ec_b60a_0242ac1c0002row6_col9{\n",
              "            background-color:  #6687ed;\n",
              "            color:  #000000;\n",
              "        }#T_95c80b78_58a0_11ec_b60a_0242ac1c0002row2_col3{\n",
              "            background-color:  #f5c4ac;\n",
              "            color:  #000000;\n",
              "        }#T_95c80b78_58a0_11ec_b60a_0242ac1c0002row2_col6,#T_95c80b78_58a0_11ec_b60a_0242ac1c0002row8_col5{\n",
              "            background-color:  #3f53c6;\n",
              "            color:  #f1f1f1;\n",
              "        }#T_95c80b78_58a0_11ec_b60a_0242ac1c0002row2_col7,#T_95c80b78_58a0_11ec_b60a_0242ac1c0002row4_col9{\n",
              "            background-color:  #516ddb;\n",
              "            color:  #000000;\n",
              "        }#T_95c80b78_58a0_11ec_b60a_0242ac1c0002row2_col8{\n",
              "            background-color:  #7396f5;\n",
              "            color:  #000000;\n",
              "        }#T_95c80b78_58a0_11ec_b60a_0242ac1c0002row2_col9{\n",
              "            background-color:  #5a78e4;\n",
              "            color:  #000000;\n",
              "        }#T_95c80b78_58a0_11ec_b60a_0242ac1c0002row3_col0{\n",
              "            background-color:  #f6a385;\n",
              "            color:  #000000;\n",
              "        }#T_95c80b78_58a0_11ec_b60a_0242ac1c0002row3_col2{\n",
              "            background-color:  #e9d5cb;\n",
              "            color:  #000000;\n",
              "        }#T_95c80b78_58a0_11ec_b60a_0242ac1c0002row3_col4,#T_95c80b78_58a0_11ec_b60a_0242ac1c0002row3_col6{\n",
              "            background-color:  #4a63d3;\n",
              "            color:  #f1f1f1;\n",
              "        }#T_95c80b78_58a0_11ec_b60a_0242ac1c0002row4_col0{\n",
              "            background-color:  #c7d7f0;\n",
              "            color:  #000000;\n",
              "        }#T_95c80b78_58a0_11ec_b60a_0242ac1c0002row4_col1{\n",
              "            background-color:  #90b2fe;\n",
              "            color:  #000000;\n",
              "        }#T_95c80b78_58a0_11ec_b60a_0242ac1c0002row4_col2{\n",
              "            background-color:  #9ebeff;\n",
              "            color:  #000000;\n",
              "        }#T_95c80b78_58a0_11ec_b60a_0242ac1c0002row4_col3{\n",
              "            background-color:  #cfdaea;\n",
              "            color:  #000000;\n",
              "        }#T_95c80b78_58a0_11ec_b60a_0242ac1c0002row4_col7{\n",
              "            background-color:  #4f69d9;\n",
              "            color:  #000000;\n",
              "        }#T_95c80b78_58a0_11ec_b60a_0242ac1c0002row4_col8,#T_95c80b78_58a0_11ec_b60a_0242ac1c0002row7_col3{\n",
              "            background-color:  #cedaeb;\n",
              "            color:  #000000;\n",
              "        }#T_95c80b78_58a0_11ec_b60a_0242ac1c0002row5_col0,#T_95c80b78_58a0_11ec_b60a_0242ac1c0002row7_col0{\n",
              "            background-color:  #cad8ef;\n",
              "            color:  #000000;\n",
              "        }#T_95c80b78_58a0_11ec_b60a_0242ac1c0002row5_col1{\n",
              "            background-color:  #96b7ff;\n",
              "            color:  #000000;\n",
              "        }#T_95c80b78_58a0_11ec_b60a_0242ac1c0002row5_col2{\n",
              "            background-color:  #9fbfff;\n",
              "            color:  #000000;\n",
              "        }#T_95c80b78_58a0_11ec_b60a_0242ac1c0002row5_col3,#T_95c80b78_58a0_11ec_b60a_0242ac1c0002row5_col8{\n",
              "            background-color:  #cbd8ee;\n",
              "            color:  #000000;\n",
              "        }#T_95c80b78_58a0_11ec_b60a_0242ac1c0002row5_col9{\n",
              "            background-color:  #5673e0;\n",
              "            color:  #000000;\n",
              "        }#T_95c80b78_58a0_11ec_b60a_0242ac1c0002row6_col0{\n",
              "            background-color:  #c3d5f4;\n",
              "            color:  #000000;\n",
              "        }#T_95c80b78_58a0_11ec_b60a_0242ac1c0002row6_col1{\n",
              "            background-color:  #8db0fe;\n",
              "            color:  #000000;\n",
              "        }#T_95c80b78_58a0_11ec_b60a_0242ac1c0002row6_col2{\n",
              "            background-color:  #a3c2fe;\n",
              "            color:  #000000;\n",
              "        }#T_95c80b78_58a0_11ec_b60a_0242ac1c0002row6_col3{\n",
              "            background-color:  #d1dae9;\n",
              "            color:  #000000;\n",
              "        }#T_95c80b78_58a0_11ec_b60a_0242ac1c0002row6_col8{\n",
              "            background-color:  #c9d7f0;\n",
              "            color:  #000000;\n",
              "        }#T_95c80b78_58a0_11ec_b60a_0242ac1c0002row7_col1{\n",
              "            background-color:  #97b8ff;\n",
              "            color:  #000000;\n",
              "        }#T_95c80b78_58a0_11ec_b60a_0242ac1c0002row7_col2{\n",
              "            background-color:  #b3cdfb;\n",
              "            color:  #000000;\n",
              "        }#T_95c80b78_58a0_11ec_b60a_0242ac1c0002row7_col4{\n",
              "            background-color:  #536edd;\n",
              "            color:  #000000;\n",
              "        }#T_95c80b78_58a0_11ec_b60a_0242ac1c0002row7_col8{\n",
              "            background-color:  #ccd9ed;\n",
              "            color:  #000000;\n",
              "        }#T_95c80b78_58a0_11ec_b60a_0242ac1c0002row7_col9{\n",
              "            background-color:  #5e7de7;\n",
              "            color:  #000000;\n",
              "        }#T_95c80b78_58a0_11ec_b60a_0242ac1c0002row8_col1{\n",
              "            background-color:  #f5c2aa;\n",
              "            color:  #000000;\n",
              "        }#T_95c80b78_58a0_11ec_b60a_0242ac1c0002row8_col4{\n",
              "            background-color:  #485fd1;\n",
              "            color:  #f1f1f1;\n",
              "        }#T_95c80b78_58a0_11ec_b60a_0242ac1c0002row8_col6{\n",
              "            background-color:  #3d50c3;\n",
              "            color:  #f1f1f1;\n",
              "        }#T_95c80b78_58a0_11ec_b60a_0242ac1c0002row9_col0{\n",
              "            background-color:  #c6d6f1;\n",
              "            color:  #000000;\n",
              "        }#T_95c80b78_58a0_11ec_b60a_0242ac1c0002row9_col1{\n",
              "            background-color:  #82a6fb;\n",
              "            color:  #000000;\n",
              "        }#T_95c80b78_58a0_11ec_b60a_0242ac1c0002row9_col2{\n",
              "            background-color:  #aec9fc;\n",
              "            color:  #000000;\n",
              "        }#T_95c80b78_58a0_11ec_b60a_0242ac1c0002row9_col3{\n",
              "            background-color:  #d8dce2;\n",
              "            color:  #000000;\n",
              "        }#T_95c80b78_58a0_11ec_b60a_0242ac1c0002row9_col6{\n",
              "            background-color:  #5977e3;\n",
              "            color:  #000000;\n",
              "        }#T_95c80b78_58a0_11ec_b60a_0242ac1c0002row9_col7{\n",
              "            background-color:  #4e68d8;\n",
              "            color:  #000000;\n",
              "        }#T_95c80b78_58a0_11ec_b60a_0242ac1c0002row9_col8{\n",
              "            background-color:  #c5d6f2;\n",
              "            color:  #000000;\n",
              "        }</style><table id=\"T_95c80b78_58a0_11ec_b60a_0242ac1c0002\" class=\"dataframe\"><thead>    <tr>        <th class=\"blank level0\" ></th>        <th class=\"col_heading level0 col0\" >Daily Time Spent on Site</th>        <th class=\"col_heading level0 col1\" >Age</th>        <th class=\"col_heading level0 col2\" >Area Income</th>        <th class=\"col_heading level0 col3\" >Daily Internet Usage</th>        <th class=\"col_heading level0 col4\" >Ad Topic Line</th>        <th class=\"col_heading level0 col5\" >City</th>        <th class=\"col_heading level0 col6\" >Male</th>        <th class=\"col_heading level0 col7\" >Country</th>        <th class=\"col_heading level0 col8\" >Clicked on Ad</th>        <th class=\"col_heading level0 col9\" >Hour</th>    </tr></thead><tbody>\n",
              "                <tr>\n",
              "                        <th id=\"T_95c80b78_58a0_11ec_b60a_0242ac1c0002level0_row0\" class=\"row_heading level0 row0\" >Daily Time Spent on Site</th>\n",
              "                        <td id=\"T_95c80b78_58a0_11ec_b60a_0242ac1c0002row0_col0\" class=\"data row0 col0\" >1.00</td>\n",
              "                        <td id=\"T_95c80b78_58a0_11ec_b60a_0242ac1c0002row0_col1\" class=\"data row0 col1\" >-0.33</td>\n",
              "                        <td id=\"T_95c80b78_58a0_11ec_b60a_0242ac1c0002row0_col2\" class=\"data row0 col2\" >0.32</td>\n",
              "                        <td id=\"T_95c80b78_58a0_11ec_b60a_0242ac1c0002row0_col3\" class=\"data row0 col3\" >0.52</td>\n",
              "                        <td id=\"T_95c80b78_58a0_11ec_b60a_0242ac1c0002row0_col4\" class=\"data row0 col4\" >-0.01</td>\n",
              "                        <td id=\"T_95c80b78_58a0_11ec_b60a_0242ac1c0002row0_col5\" class=\"data row0 col5\" >0.01</td>\n",
              "                        <td id=\"T_95c80b78_58a0_11ec_b60a_0242ac1c0002row0_col6\" class=\"data row0 col6\" >-0.03</td>\n",
              "                        <td id=\"T_95c80b78_58a0_11ec_b60a_0242ac1c0002row0_col7\" class=\"data row0 col7\" >0.01</td>\n",
              "                        <td id=\"T_95c80b78_58a0_11ec_b60a_0242ac1c0002row0_col8\" class=\"data row0 col8\" >-0.74</td>\n",
              "                        <td id=\"T_95c80b78_58a0_11ec_b60a_0242ac1c0002row0_col9\" class=\"data row0 col9\" >-0.01</td>\n",
              "            </tr>\n",
              "            <tr>\n",
              "                        <th id=\"T_95c80b78_58a0_11ec_b60a_0242ac1c0002level0_row1\" class=\"row_heading level0 row1\" >Age</th>\n",
              "                        <td id=\"T_95c80b78_58a0_11ec_b60a_0242ac1c0002row1_col0\" class=\"data row1 col0\" >-0.33</td>\n",
              "                        <td id=\"T_95c80b78_58a0_11ec_b60a_0242ac1c0002row1_col1\" class=\"data row1 col1\" >1.00</td>\n",
              "                        <td id=\"T_95c80b78_58a0_11ec_b60a_0242ac1c0002row1_col2\" class=\"data row1 col2\" >-0.19</td>\n",
              "                        <td id=\"T_95c80b78_58a0_11ec_b60a_0242ac1c0002row1_col3\" class=\"data row1 col3\" >-0.38</td>\n",
              "                        <td id=\"T_95c80b78_58a0_11ec_b60a_0242ac1c0002row1_col4\" class=\"data row1 col4\" >-0.02</td>\n",
              "                        <td id=\"T_95c80b78_58a0_11ec_b60a_0242ac1c0002row1_col5\" class=\"data row1 col5\" >0.00</td>\n",
              "                        <td id=\"T_95c80b78_58a0_11ec_b60a_0242ac1c0002row1_col6\" class=\"data row1 col6\" >-0.03</td>\n",
              "                        <td id=\"T_95c80b78_58a0_11ec_b60a_0242ac1c0002row1_col7\" class=\"data row1 col7\" >0.00</td>\n",
              "                        <td id=\"T_95c80b78_58a0_11ec_b60a_0242ac1c0002row1_col8\" class=\"data row1 col8\" >0.49</td>\n",
              "                        <td id=\"T_95c80b78_58a0_11ec_b60a_0242ac1c0002row1_col9\" class=\"data row1 col9\" >-0.08</td>\n",
              "            </tr>\n",
              "            <tr>\n",
              "                        <th id=\"T_95c80b78_58a0_11ec_b60a_0242ac1c0002level0_row2\" class=\"row_heading level0 row2\" >Area Income</th>\n",
              "                        <td id=\"T_95c80b78_58a0_11ec_b60a_0242ac1c0002row2_col0\" class=\"data row2 col0\" >0.32</td>\n",
              "                        <td id=\"T_95c80b78_58a0_11ec_b60a_0242ac1c0002row2_col1\" class=\"data row2 col1\" >-0.19</td>\n",
              "                        <td id=\"T_95c80b78_58a0_11ec_b60a_0242ac1c0002row2_col2\" class=\"data row2 col2\" >1.00</td>\n",
              "                        <td id=\"T_95c80b78_58a0_11ec_b60a_0242ac1c0002row2_col3\" class=\"data row2 col3\" >0.33</td>\n",
              "                        <td id=\"T_95c80b78_58a0_11ec_b60a_0242ac1c0002row2_col4\" class=\"data row2 col4\" >-0.04</td>\n",
              "                        <td id=\"T_95c80b78_58a0_11ec_b60a_0242ac1c0002row2_col5\" class=\"data row2 col5\" >-0.03</td>\n",
              "                        <td id=\"T_95c80b78_58a0_11ec_b60a_0242ac1c0002row2_col6\" class=\"data row2 col6\" >-0.01</td>\n",
              "                        <td id=\"T_95c80b78_58a0_11ec_b60a_0242ac1c0002row2_col7\" class=\"data row2 col7\" >0.06</td>\n",
              "                        <td id=\"T_95c80b78_58a0_11ec_b60a_0242ac1c0002row2_col8\" class=\"data row2 col8\" >-0.48</td>\n",
              "                        <td id=\"T_95c80b78_58a0_11ec_b60a_0242ac1c0002row2_col9\" class=\"data row2 col9\" >0.04</td>\n",
              "            </tr>\n",
              "            <tr>\n",
              "                        <th id=\"T_95c80b78_58a0_11ec_b60a_0242ac1c0002level0_row3\" class=\"row_heading level0 row3\" >Daily Internet Usage</th>\n",
              "                        <td id=\"T_95c80b78_58a0_11ec_b60a_0242ac1c0002row3_col0\" class=\"data row3 col0\" >0.52</td>\n",
              "                        <td id=\"T_95c80b78_58a0_11ec_b60a_0242ac1c0002row3_col1\" class=\"data row3 col1\" >-0.38</td>\n",
              "                        <td id=\"T_95c80b78_58a0_11ec_b60a_0242ac1c0002row3_col2\" class=\"data row3 col2\" >0.33</td>\n",
              "                        <td id=\"T_95c80b78_58a0_11ec_b60a_0242ac1c0002row3_col3\" class=\"data row3 col3\" >1.00</td>\n",
              "                        <td id=\"T_95c80b78_58a0_11ec_b60a_0242ac1c0002row3_col4\" class=\"data row3 col4\" >0.02</td>\n",
              "                        <td id=\"T_95c80b78_58a0_11ec_b60a_0242ac1c0002row3_col5\" class=\"data row3 col5\" >-0.01</td>\n",
              "                        <td id=\"T_95c80b78_58a0_11ec_b60a_0242ac1c0002row3_col6\" class=\"data row3 col6\" >0.02</td>\n",
              "                        <td id=\"T_95c80b78_58a0_11ec_b60a_0242ac1c0002row3_col7\" class=\"data row3 col7\" >0.01</td>\n",
              "                        <td id=\"T_95c80b78_58a0_11ec_b60a_0242ac1c0002row3_col8\" class=\"data row3 col8\" >-0.79</td>\n",
              "                        <td id=\"T_95c80b78_58a0_11ec_b60a_0242ac1c0002row3_col9\" class=\"data row3 col9\" >0.07</td>\n",
              "            </tr>\n",
              "            <tr>\n",
              "                        <th id=\"T_95c80b78_58a0_11ec_b60a_0242ac1c0002level0_row4\" class=\"row_heading level0 row4\" >Ad Topic Line</th>\n",
              "                        <td id=\"T_95c80b78_58a0_11ec_b60a_0242ac1c0002row4_col0\" class=\"data row4 col0\" >-0.01</td>\n",
              "                        <td id=\"T_95c80b78_58a0_11ec_b60a_0242ac1c0002row4_col1\" class=\"data row4 col1\" >-0.02</td>\n",
              "                        <td id=\"T_95c80b78_58a0_11ec_b60a_0242ac1c0002row4_col2\" class=\"data row4 col2\" >-0.04</td>\n",
              "                        <td id=\"T_95c80b78_58a0_11ec_b60a_0242ac1c0002row4_col3\" class=\"data row4 col3\" >0.02</td>\n",
              "                        <td id=\"T_95c80b78_58a0_11ec_b60a_0242ac1c0002row4_col4\" class=\"data row4 col4\" >1.00</td>\n",
              "                        <td id=\"T_95c80b78_58a0_11ec_b60a_0242ac1c0002row4_col5\" class=\"data row4 col5\" >-0.03</td>\n",
              "                        <td id=\"T_95c80b78_58a0_11ec_b60a_0242ac1c0002row4_col6\" class=\"data row4 col6\" >-0.01</td>\n",
              "                        <td id=\"T_95c80b78_58a0_11ec_b60a_0242ac1c0002row4_col7\" class=\"data row4 col7\" >0.05</td>\n",
              "                        <td id=\"T_95c80b78_58a0_11ec_b60a_0242ac1c0002row4_col8\" class=\"data row4 col8\" >0.01</td>\n",
              "                        <td id=\"T_95c80b78_58a0_11ec_b60a_0242ac1c0002row4_col9\" class=\"data row4 col9\" >0.01</td>\n",
              "            </tr>\n",
              "            <tr>\n",
              "                        <th id=\"T_95c80b78_58a0_11ec_b60a_0242ac1c0002level0_row5\" class=\"row_heading level0 row5\" >City</th>\n",
              "                        <td id=\"T_95c80b78_58a0_11ec_b60a_0242ac1c0002row5_col0\" class=\"data row5 col0\" >0.01</td>\n",
              "                        <td id=\"T_95c80b78_58a0_11ec_b60a_0242ac1c0002row5_col1\" class=\"data row5 col1\" >0.00</td>\n",
              "                        <td id=\"T_95c80b78_58a0_11ec_b60a_0242ac1c0002row5_col2\" class=\"data row5 col2\" >-0.03</td>\n",
              "                        <td id=\"T_95c80b78_58a0_11ec_b60a_0242ac1c0002row5_col3\" class=\"data row5 col3\" >-0.01</td>\n",
              "                        <td id=\"T_95c80b78_58a0_11ec_b60a_0242ac1c0002row5_col4\" class=\"data row5 col4\" >-0.03</td>\n",
              "                        <td id=\"T_95c80b78_58a0_11ec_b60a_0242ac1c0002row5_col5\" class=\"data row5 col5\" >1.00</td>\n",
              "                        <td id=\"T_95c80b78_58a0_11ec_b60a_0242ac1c0002row5_col6\" class=\"data row5 col6\" >0.00</td>\n",
              "                        <td id=\"T_95c80b78_58a0_11ec_b60a_0242ac1c0002row5_col7\" class=\"data row5 col7\" >0.01</td>\n",
              "                        <td id=\"T_95c80b78_58a0_11ec_b60a_0242ac1c0002row5_col8\" class=\"data row5 col8\" >-0.01</td>\n",
              "                        <td id=\"T_95c80b78_58a0_11ec_b60a_0242ac1c0002row5_col9\" class=\"data row5 col9\" >0.02</td>\n",
              "            </tr>\n",
              "            <tr>\n",
              "                        <th id=\"T_95c80b78_58a0_11ec_b60a_0242ac1c0002level0_row6\" class=\"row_heading level0 row6\" >Male</th>\n",
              "                        <td id=\"T_95c80b78_58a0_11ec_b60a_0242ac1c0002row6_col0\" class=\"data row6 col0\" >-0.03</td>\n",
              "                        <td id=\"T_95c80b78_58a0_11ec_b60a_0242ac1c0002row6_col1\" class=\"data row6 col1\" >-0.03</td>\n",
              "                        <td id=\"T_95c80b78_58a0_11ec_b60a_0242ac1c0002row6_col2\" class=\"data row6 col2\" >-0.01</td>\n",
              "                        <td id=\"T_95c80b78_58a0_11ec_b60a_0242ac1c0002row6_col3\" class=\"data row6 col3\" >0.02</td>\n",
              "                        <td id=\"T_95c80b78_58a0_11ec_b60a_0242ac1c0002row6_col4\" class=\"data row6 col4\" >-0.01</td>\n",
              "                        <td id=\"T_95c80b78_58a0_11ec_b60a_0242ac1c0002row6_col5\" class=\"data row6 col5\" >0.00</td>\n",
              "                        <td id=\"T_95c80b78_58a0_11ec_b60a_0242ac1c0002row6_col6\" class=\"data row6 col6\" >1.00</td>\n",
              "                        <td id=\"T_95c80b78_58a0_11ec_b60a_0242ac1c0002row6_col7\" class=\"data row6 col7\" >-0.02</td>\n",
              "                        <td id=\"T_95c80b78_58a0_11ec_b60a_0242ac1c0002row6_col8\" class=\"data row6 col8\" >-0.02</td>\n",
              "                        <td id=\"T_95c80b78_58a0_11ec_b60a_0242ac1c0002row6_col9\" class=\"data row6 col9\" >0.07</td>\n",
              "            </tr>\n",
              "            <tr>\n",
              "                        <th id=\"T_95c80b78_58a0_11ec_b60a_0242ac1c0002level0_row7\" class=\"row_heading level0 row7\" >Country</th>\n",
              "                        <td id=\"T_95c80b78_58a0_11ec_b60a_0242ac1c0002row7_col0\" class=\"data row7 col0\" >0.01</td>\n",
              "                        <td id=\"T_95c80b78_58a0_11ec_b60a_0242ac1c0002row7_col1\" class=\"data row7 col1\" >0.00</td>\n",
              "                        <td id=\"T_95c80b78_58a0_11ec_b60a_0242ac1c0002row7_col2\" class=\"data row7 col2\" >0.06</td>\n",
              "                        <td id=\"T_95c80b78_58a0_11ec_b60a_0242ac1c0002row7_col3\" class=\"data row7 col3\" >0.01</td>\n",
              "                        <td id=\"T_95c80b78_58a0_11ec_b60a_0242ac1c0002row7_col4\" class=\"data row7 col4\" >0.05</td>\n",
              "                        <td id=\"T_95c80b78_58a0_11ec_b60a_0242ac1c0002row7_col5\" class=\"data row7 col5\" >0.01</td>\n",
              "                        <td id=\"T_95c80b78_58a0_11ec_b60a_0242ac1c0002row7_col6\" class=\"data row7 col6\" >-0.02</td>\n",
              "                        <td id=\"T_95c80b78_58a0_11ec_b60a_0242ac1c0002row7_col7\" class=\"data row7 col7\" >1.00</td>\n",
              "                        <td id=\"T_95c80b78_58a0_11ec_b60a_0242ac1c0002row7_col8\" class=\"data row7 col8\" >-0.01</td>\n",
              "                        <td id=\"T_95c80b78_58a0_11ec_b60a_0242ac1c0002row7_col9\" class=\"data row7 col9\" >0.05</td>\n",
              "            </tr>\n",
              "            <tr>\n",
              "                        <th id=\"T_95c80b78_58a0_11ec_b60a_0242ac1c0002level0_row8\" class=\"row_heading level0 row8\" >Clicked on Ad</th>\n",
              "                        <td id=\"T_95c80b78_58a0_11ec_b60a_0242ac1c0002row8_col0\" class=\"data row8 col0\" >-0.74</td>\n",
              "                        <td id=\"T_95c80b78_58a0_11ec_b60a_0242ac1c0002row8_col1\" class=\"data row8 col1\" >0.49</td>\n",
              "                        <td id=\"T_95c80b78_58a0_11ec_b60a_0242ac1c0002row8_col2\" class=\"data row8 col2\" >-0.48</td>\n",
              "                        <td id=\"T_95c80b78_58a0_11ec_b60a_0242ac1c0002row8_col3\" class=\"data row8 col3\" >-0.79</td>\n",
              "                        <td id=\"T_95c80b78_58a0_11ec_b60a_0242ac1c0002row8_col4\" class=\"data row8 col4\" >0.01</td>\n",
              "                        <td id=\"T_95c80b78_58a0_11ec_b60a_0242ac1c0002row8_col5\" class=\"data row8 col5\" >-0.01</td>\n",
              "                        <td id=\"T_95c80b78_58a0_11ec_b60a_0242ac1c0002row8_col6\" class=\"data row8 col6\" >-0.02</td>\n",
              "                        <td id=\"T_95c80b78_58a0_11ec_b60a_0242ac1c0002row8_col7\" class=\"data row8 col7\" >-0.01</td>\n",
              "                        <td id=\"T_95c80b78_58a0_11ec_b60a_0242ac1c0002row8_col8\" class=\"data row8 col8\" >1.00</td>\n",
              "                        <td id=\"T_95c80b78_58a0_11ec_b60a_0242ac1c0002row8_col9\" class=\"data row8 col9\" >-0.05</td>\n",
              "            </tr>\n",
              "            <tr>\n",
              "                        <th id=\"T_95c80b78_58a0_11ec_b60a_0242ac1c0002level0_row9\" class=\"row_heading level0 row9\" >Hour</th>\n",
              "                        <td id=\"T_95c80b78_58a0_11ec_b60a_0242ac1c0002row9_col0\" class=\"data row9 col0\" >-0.01</td>\n",
              "                        <td id=\"T_95c80b78_58a0_11ec_b60a_0242ac1c0002row9_col1\" class=\"data row9 col1\" >-0.08</td>\n",
              "                        <td id=\"T_95c80b78_58a0_11ec_b60a_0242ac1c0002row9_col2\" class=\"data row9 col2\" >0.04</td>\n",
              "                        <td id=\"T_95c80b78_58a0_11ec_b60a_0242ac1c0002row9_col3\" class=\"data row9 col3\" >0.07</td>\n",
              "                        <td id=\"T_95c80b78_58a0_11ec_b60a_0242ac1c0002row9_col4\" class=\"data row9 col4\" >0.01</td>\n",
              "                        <td id=\"T_95c80b78_58a0_11ec_b60a_0242ac1c0002row9_col5\" class=\"data row9 col5\" >0.02</td>\n",
              "                        <td id=\"T_95c80b78_58a0_11ec_b60a_0242ac1c0002row9_col6\" class=\"data row9 col6\" >0.07</td>\n",
              "                        <td id=\"T_95c80b78_58a0_11ec_b60a_0242ac1c0002row9_col7\" class=\"data row9 col7\" >0.05</td>\n",
              "                        <td id=\"T_95c80b78_58a0_11ec_b60a_0242ac1c0002row9_col8\" class=\"data row9 col8\" >-0.05</td>\n",
              "                        <td id=\"T_95c80b78_58a0_11ec_b60a_0242ac1c0002row9_col9\" class=\"data row9 col9\" >1.00</td>\n",
              "            </tr>\n",
              "    </tbody></table>"
            ],
            "text/plain": [
              "<pandas.io.formats.style.Styler at 0x7f1cca8313d0>"
            ]
          },
          "metadata": {},
          "execution_count": 984
        }
      ]
    },
    {
      "cell_type": "code",
      "source": [
        "def save_pipeline(\n",
        "    pipeline, \n",
        "    pipeline_name:str='', \n",
        "    path:str=''\n",
        "    ):\n",
        "    '''\n",
        "    Description : this method will save a specefic machine learning pipeline in a given path\n",
        "    Params : \n",
        "        pipeline : sklearn.pipeline : machine learning pipeline\n",
        "        pipeline_name : str :  the pipeline name\n",
        "        path : str : the path where we will save the pipeline\n",
        "    '''\n",
        "    with open(r\"./models/\"+pipeline_name+\".pickle\", \"wb\") as output_file:\n",
        "        pickle.dump(pipeline, output_file)\n",
        "        \n",
        "def split_data_and_train_pipeline(\n",
        "    data, \n",
        "    features_cols, \n",
        "    label_col:str, \n",
        "    model\n",
        "    ):\n",
        "    '''\n",
        "    Description : this method will create train test dataset, build the pipeline, train and save it\n",
        "    Params : \n",
        "        data : Dataframe : Dataframe thea holds the data\n",
        "        features_cols : list(str) :  list that holds the features columns names\n",
        "        label_col : str :  name of the target\n",
        "        model : sklearn model : the machine learning model that will be used for the training and prediction\n",
        "    '''\n",
        "    # split data\n",
        "    sentances = data[features_cols].values\n",
        "    labels = data[label_col].values\n",
        "    X_train, X_test, y_train, y_test = train_test_split(sentances, labels, test_size=0.2, random_state=42, stratify=labels)\n",
        "    model_name = model.__class__.__name__\n",
        "    # create pipeline\n",
        "    clf = get_gridsearchcv_obj(model)\n",
        "    \n",
        "    # Flat data \n",
        "    X_train = np.array(X_train)\n",
        "    y_train = np.array(y_train)\n",
        "    X_test = np.array(X_test)\n",
        "    y_test = np.array(y_test)\n",
        "    \n",
        "    # train pipeline\n",
        "    clf = clf.fit(X=X_train, y=y_train)\n",
        "    save_pipeline(clf,pipeline_name =model_name)\n",
        "    return clf, X_test, y_test, X_train\n",
        "\n",
        "def evaluation(\n",
        "    clf, \n",
        "    X_test, \n",
        "    y_test, \n",
        "    average:str='binary'\n",
        "    ):\n",
        "    '''\n",
        "    Description : this method will be used to evaluate the created model\n",
        "    Params : \n",
        "        clf : sklearn model : the machine learning model to evaluate\n",
        "        X_test : Series :  Series that holds the features columns\n",
        "        y_test : Series :  Series that holds the target column \n",
        "        average : str :  average method used to evaluate the model\n",
        "    '''\n",
        "    y_pred = clf.predict(X_test)\n",
        "    # Evaluation using f1_score, precision_score, accuracy_score, confusion_matrix and the classification_report\n",
        "    f1_s = f1_score(y_test, y_pred, average=average) #F1 = 2 * (precision * recall) / (precision + recall)\n",
        "    prec_score = precision_score(y_test, y_pred, average=average)#tp / (tp + fp)\n",
        "    acc = accuracy_score(y_test, y_pred)#tp +tn/ (tp + fp + tn + fn)\n",
        "    rec = recall_score(y_test, y_pred, average='weighted')#tp / (tp + fn)\n",
        "    c_mx = confusion_matrix(y_test, y_pred)\n",
        "    c_mx_norm = confusion_matrix(y_test, y_pred, normalize= 'true')\n",
        "    clf_repport = classification_report(y_test, y_pred)\n",
        "    print('f1_score:', f1_s)\n",
        "    print('--------------------------------------------')\n",
        "    print('precision_score:', prec_score)\n",
        "    print('--------------------------------------------')\n",
        "    print('accuracy_score:', acc)\n",
        "    print('--------------------------------------------')\n",
        "    print('recall_score:', rec)\n",
        "    print('--------------------------------------------')\n",
        "    print('classification_report')\n",
        "    print(clf_repport)\n",
        "    plt.figure(figsize=(20, 20))\n",
        "    fig, ax = plt.subplots(figsize=(15, 15))\n",
        "    plot_confusion_matrix(clf, X_test, y_test, ax=ax)  \n",
        "    plt.show()  \n",
        "    return y_pred, f1_s, prec_score, acc, rec, c_mx, clf_repport"
      ],
      "metadata": {
        "id": "TGZJ7Gk44p27"
      },
      "execution_count": 985,
      "outputs": []
    },
    {
      "cell_type": "code",
      "source": [
        "### Define the models that will be used to do the prediction\n",
        "### After that we will evaluate eachone of them and pick the best one"
      ],
      "metadata": {
        "id": "ODnrdif07pwm"
      },
      "execution_count": 986,
      "outputs": []
    },
    {
      "cell_type": "code",
      "source": [
        "models = [XGBClassifier(),LogisticRegression(), \n",
        "         SGDClassifier(loss='log'), MultinomialNB(), GradientBoostingClassifier(n_estimators=10),\n",
        "         RandomForestClassifier(n_estimators=10), AdaBoostClassifier(DecisionTreeClassifier()),\n",
        "         ExtraTreesClassifier(n_estimators=10), MLPClassifier(hidden_layer_sizes=(20,50,)),\n",
        "         KNeighborsClassifier(), ] ## Define the list of models that we will test it\n",
        "results = {} ## the dictionary that will hold the results of all models\n",
        "best_model= {} ## the resuls of the evaluation of the best model\n",
        "best_f1 = 0 # the best f1 score: the initial value is 0\n",
        "columns = list(data_filtred.columns)\n",
        "X_columns = ['Daily Time Spent on Site', 'Age','Area Income','Daily Internet Usage','City','Male','Country','Hour'] ## Features columns names\n",
        "label_column = 'Clicked on Ad' ## The target column name\n",
        "average='binary' ## The average function that will be using"
      ],
      "metadata": {
        "id": "O4kzdeJ07tK5"
      },
      "execution_count": 987,
      "outputs": []
    },
    {
      "cell_type": "code",
      "source": [
        "data_filtred.info()"
      ],
      "metadata": {
        "colab": {
          "base_uri": "https://localhost:8080/"
        },
        "id": "K6zwq8Uf__ML",
        "outputId": "8f9c040d-74fc-4414-df2e-d5dfc9fc3ac2"
      },
      "execution_count": 988,
      "outputs": [
        {
          "output_type": "stream",
          "name": "stdout",
          "text": [
            "<class 'pandas.core.frame.DataFrame'>\n",
            "Int64Index: 859 entries, 0 to 999\n",
            "Data columns (total 10 columns):\n",
            " #   Column                    Non-Null Count  Dtype  \n",
            "---  ------                    --------------  -----  \n",
            " 0   Daily Time Spent on Site  859 non-null    float64\n",
            " 1   Age                       859 non-null    int64  \n",
            " 2   Area Income               859 non-null    float64\n",
            " 3   Daily Internet Usage      859 non-null    float64\n",
            " 4   Ad Topic Line             859 non-null    int64  \n",
            " 5   City                      859 non-null    int64  \n",
            " 6   Male                      859 non-null    int64  \n",
            " 7   Country                   859 non-null    int64  \n",
            " 8   Clicked on Ad             859 non-null    int64  \n",
            " 9   Hour                      859 non-null    int64  \n",
            "dtypes: float64(3), int64(7)\n",
            "memory usage: 73.8 KB\n"
          ]
        }
      ]
    },
    {
      "cell_type": "code",
      "source": [
        "for model in models:\n",
        "    print('############################')\n",
        "    print(model.__class__.__name__)\n",
        "    print('############################')\n",
        "    inter_result = {}\n",
        "    \n",
        "    clf_1, X_test, y_test, X_train = split_data_and_train_pipeline(data_filtred, X_columns, label_column, model)\n",
        "    y_pred, f1_s, prec_score, acc, rec, c_mx, clf_repport = evaluation(clf_1, X_test, y_test, average=average)\n",
        "    \n",
        "    \n",
        "    inter_result['classifier'] = clf_1\n",
        "    inter_result['X_test'] = X_test\n",
        "    inter_result['y_test'] = y_test\n",
        "    inter_result['y_pred'] = y_pred\n",
        "    inter_result['f1_score'] = f1_s\n",
        "    inter_result['precison_score'] = prec_score\n",
        "    inter_result['accuracy_score'] = acc\n",
        "    inter_result['recall_score'] = rec\n",
        "    inter_result['confusion_matrix'] = c_mx\n",
        "    inter_result['classification_report'] = clf_repport\n",
        "    inter_result['model_name'] = model.__class__.__name__\n",
        "    results[model.__class__.__name__] = inter_result\n",
        "\n",
        "    if best_f1<f1_s:\n",
        "        best_f1 = f1_s\n",
        "        best_model = inter_result"
      ],
      "metadata": {
        "colab": {
          "base_uri": "https://localhost:8080/",
          "height": 1000
        },
        "id": "RHkDuoc28AjB",
        "outputId": "4ccac309-8a2f-47b6-fde8-ae85b3099088"
      },
      "execution_count": 989,
      "outputs": [
        {
          "output_type": "stream",
          "name": "stdout",
          "text": [
            "############################\n",
            "XGBClassifier\n",
            "############################\n",
            "f1_score: 0.9467455621301775\n",
            "--------------------------------------------\n",
            "precision_score: 0.9523809523809523\n",
            "--------------------------------------------\n",
            "accuracy_score: 0.9476744186046512\n",
            "--------------------------------------------\n",
            "recall_score: 0.9476744186046512\n",
            "--------------------------------------------\n",
            "classification_report\n",
            "              precision    recall  f1-score   support\n",
            "\n",
            "           0       0.94      0.95      0.95        87\n",
            "           1       0.95      0.94      0.95        85\n",
            "\n",
            "    accuracy                           0.95       172\n",
            "   macro avg       0.95      0.95      0.95       172\n",
            "weighted avg       0.95      0.95      0.95       172\n",
            "\n"
          ]
        },
        {
          "output_type": "display_data",
          "data": {
            "text/plain": [
              "<Figure size 1440x1440 with 0 Axes>"
            ]
          },
          "metadata": {}
        },
        {
          "output_type": "display_data",
          "data": {
            "image/png": "[encoded data removed]",
            "text/plain": [
              "<Figure size 1080x1080 with 2 Axes>"
            ]
          },
          "metadata": {
            "needs_background": "light"
          }
        },
        {
          "output_type": "stream",
          "name": "stdout",
          "text": [
            "############################\n",
            "LogisticRegression\n",
            "############################\n",
            "f1_score: 0.9221556886227545\n",
            "--------------------------------------------\n",
            "precision_score: 0.9390243902439024\n",
            "--------------------------------------------\n",
            "accuracy_score: 0.9244186046511628\n",
            "--------------------------------------------\n",
            "recall_score: 0.9244186046511628\n",
            "--------------------------------------------\n",
            "classification_report\n",
            "              precision    recall  f1-score   support\n",
            "\n",
            "           0       0.91      0.94      0.93        87\n",
            "           1       0.94      0.91      0.92        85\n",
            "\n",
            "    accuracy                           0.92       172\n",
            "   macro avg       0.93      0.92      0.92       172\n",
            "weighted avg       0.92      0.92      0.92       172\n",
            "\n"
          ]
        },
        {
          "output_type": "display_data",
          "data": {
            "text/plain": [
              "<Figure size 1440x1440 with 0 Axes>"
            ]
          },
          "metadata": {}
        },
        {
          "output_type": "display_data",
          "data": {
            "image/png": "[encoded data removed]",
            "text/plain": [
              "<Figure size 1080x1080 with 2 Axes>"
            ]
          },
          "metadata": {
            "needs_background": "light"
          }
        },
        {
          "output_type": "stream",
          "name": "stdout",
          "text": [
            "############################\n",
            "SGDClassifier\n",
            "############################\n",
            "f1_score: 0.0\n",
            "--------------------------------------------\n",
            "precision_score: 0.0\n",
            "--------------------------------------------\n",
            "accuracy_score: 0.5058139534883721\n",
            "--------------------------------------------\n",
            "recall_score: 0.5058139534883721\n",
            "--------------------------------------------\n",
            "classification_report\n",
            "              precision    recall  f1-score   support\n",
            "\n",
            "           0       0.51      1.00      0.67        87\n",
            "           1       0.00      0.00      0.00        85\n",
            "\n",
            "    accuracy                           0.51       172\n",
            "   macro avg       0.25      0.50      0.34       172\n",
            "weighted avg       0.26      0.51      0.34       172\n",
            "\n"
          ]
        },
        {
          "output_type": "display_data",
          "data": {
            "text/plain": [
              "<Figure size 1440x1440 with 0 Axes>"
            ]
          },
          "metadata": {}
        },
        {
          "output_type": "display_data",
          "data": {
            "image/png": "[encoded data removed]",
            "text/plain": [
              "<Figure size 1080x1080 with 2 Axes>"
            ]
          },
          "metadata": {
            "needs_background": "light"
          }
        },
        {
          "output_type": "stream",
          "name": "stdout",
          "text": [
            "############################\n",
            "MultinomialNB\n",
            "############################\n",
            "f1_score: 0.6145251396648045\n",
            "--------------------------------------------\n",
            "precision_score: 0.5851063829787234\n",
            "--------------------------------------------\n",
            "accuracy_score: 0.5988372093023255\n",
            "--------------------------------------------\n",
            "recall_score: 0.5988372093023255\n",
            "--------------------------------------------\n",
            "classification_report\n",
            "              precision    recall  f1-score   support\n",
            "\n",
            "           0       0.62      0.55      0.58        87\n",
            "           1       0.59      0.65      0.61        85\n",
            "\n",
            "    accuracy                           0.60       172\n",
            "   macro avg       0.60      0.60      0.60       172\n",
            "weighted avg       0.60      0.60      0.60       172\n",
            "\n"
          ]
        },
        {
          "output_type": "display_data",
          "data": {
            "text/plain": [
              "<Figure size 1440x1440 with 0 Axes>"
            ]
          },
          "metadata": {}
        },
        {
          "output_type": "display_data",
          "data": {
            "image/png": "[encoded data removed]",
            "text/plain": [
              "<Figure size 1080x1080 with 2 Axes>"
            ]
          },
          "metadata": {
            "needs_background": "light"
          }
        },
        {
          "output_type": "stream",
          "name": "stdout",
          "text": [
            "############################\n",
            "GradientBoostingClassifier\n",
            "############################\n",
            "f1_score: 0.935672514619883\n",
            "--------------------------------------------\n",
            "precision_score: 0.9302325581395349\n",
            "--------------------------------------------\n",
            "accuracy_score: 0.936046511627907\n",
            "--------------------------------------------\n",
            "recall_score: 0.936046511627907\n",
            "--------------------------------------------\n",
            "classification_report\n",
            "              precision    recall  f1-score   support\n",
            "\n",
            "           0       0.94      0.93      0.94        87\n",
            "           1       0.93      0.94      0.94        85\n",
            "\n",
            "    accuracy                           0.94       172\n",
            "   macro avg       0.94      0.94      0.94       172\n",
            "weighted avg       0.94      0.94      0.94       172\n",
            "\n"
          ]
        },
        {
          "output_type": "display_data",
          "data": {
            "text/plain": [
              "<Figure size 1440x1440 with 0 Axes>"
            ]
          },
          "metadata": {}
        },
        {
          "output_type": "display_data",
          "data": {
            "image/png": "[encoded data removed]",
            "text/plain": [
              "<Figure size 1080x1080 with 2 Axes>"
            ]
          },
          "metadata": {
            "needs_background": "light"
          }
        },
        {
          "output_type": "stream",
          "name": "stdout",
          "text": [
            "############################\n",
            "RandomForestClassifier\n",
            "############################\n",
            "f1_score: 0.9580838323353293\n",
            "--------------------------------------------\n",
            "precision_score: 0.975609756097561\n",
            "--------------------------------------------\n",
            "accuracy_score: 0.9593023255813954\n",
            "--------------------------------------------\n",
            "recall_score: 0.9593023255813954\n",
            "--------------------------------------------\n",
            "classification_report\n",
            "              precision    recall  f1-score   support\n",
            "\n",
            "           0       0.94      0.98      0.96        87\n",
            "           1       0.98      0.94      0.96        85\n",
            "\n",
            "    accuracy                           0.96       172\n",
            "   macro avg       0.96      0.96      0.96       172\n",
            "weighted avg       0.96      0.96      0.96       172\n",
            "\n"
          ]
        },
        {
          "output_type": "display_data",
          "data": {
            "text/plain": [
              "<Figure size 1440x1440 with 0 Axes>"
            ]
          },
          "metadata": {}
        },
        {
          "output_type": "display_data",
          "data": {
            "image/png": "[encoded data removed]",
            "text/plain": [
              "<Figure size 1080x1080 with 2 Axes>"
            ]
          },
          "metadata": {
            "needs_background": "light"
          }
        },
        {
          "output_type": "stream",
          "name": "stdout",
          "text": [
            "############################\n",
            "AdaBoostClassifier\n",
            "############################\n",
            "f1_score: 0.9195402298850575\n",
            "--------------------------------------------\n",
            "precision_score: 0.898876404494382\n",
            "--------------------------------------------\n",
            "accuracy_score: 0.9186046511627907\n",
            "--------------------------------------------\n",
            "recall_score: 0.9186046511627907\n",
            "--------------------------------------------\n",
            "classification_report\n",
            "              precision    recall  f1-score   support\n",
            "\n",
            "           0       0.94      0.90      0.92        87\n",
            "           1       0.90      0.94      0.92        85\n",
            "\n",
            "    accuracy                           0.92       172\n",
            "   macro avg       0.92      0.92      0.92       172\n",
            "weighted avg       0.92      0.92      0.92       172\n",
            "\n"
          ]
        },
        {
          "output_type": "display_data",
          "data": {
            "text/plain": [
              "<Figure size 1440x1440 with 0 Axes>"
            ]
          },
          "metadata": {}
        },
        {
          "output_type": "display_data",
          "data": {
            "image/png": "[encoded data removed]",
            "text/plain": [
              "<Figure size 1080x1080 with 2 Axes>"
            ]
          },
          "metadata": {
            "needs_background": "light"
          }
        },
        {
          "output_type": "stream",
          "name": "stdout",
          "text": [
            "############################\n",
            "ExtraTreesClassifier\n",
            "############################\n",
            "f1_score: 0.963855421686747\n",
            "--------------------------------------------\n",
            "precision_score: 0.9876543209876543\n",
            "--------------------------------------------\n",
            "accuracy_score: 0.9651162790697675\n",
            "--------------------------------------------\n",
            "recall_score: 0.9651162790697675\n",
            "--------------------------------------------\n",
            "classification_report\n",
            "              precision    recall  f1-score   support\n",
            "\n",
            "           0       0.95      0.99      0.97        87\n",
            "           1       0.99      0.94      0.96        85\n",
            "\n",
            "    accuracy                           0.97       172\n",
            "   macro avg       0.97      0.96      0.97       172\n",
            "weighted avg       0.97      0.97      0.97       172\n",
            "\n"
          ]
        },
        {
          "output_type": "display_data",
          "data": {
            "text/plain": [
              "<Figure size 1440x1440 with 0 Axes>"
            ]
          },
          "metadata": {}
        },
        {
          "output_type": "display_data",
          "data": {
            "image/png": "[encoded data removed]",
            "text/plain": [
              "<Figure size 1080x1080 with 2 Axes>"
            ]
          },
          "metadata": {
            "needs_background": "light"
          }
        },
        {
          "output_type": "stream",
          "name": "stdout",
          "text": [
            "############################\n",
            "MLPClassifier\n",
            "############################\n",
            "f1_score: 0.6614785992217899\n",
            "--------------------------------------------\n",
            "precision_score: 0.4941860465116279\n",
            "--------------------------------------------\n",
            "accuracy_score: 0.4941860465116279\n",
            "--------------------------------------------\n",
            "recall_score: 0.4941860465116279\n",
            "--------------------------------------------\n",
            "classification_report\n",
            "              precision    recall  f1-score   support\n",
            "\n",
            "           0       0.00      0.00      0.00        87\n",
            "           1       0.49      1.00      0.66        85\n",
            "\n",
            "    accuracy                           0.49       172\n",
            "   macro avg       0.25      0.50      0.33       172\n",
            "weighted avg       0.24      0.49      0.33       172\n",
            "\n"
          ]
        },
        {
          "output_type": "display_data",
          "data": {
            "text/plain": [
              "<Figure size 1440x1440 with 0 Axes>"
            ]
          },
          "metadata": {}
        },
        {
          "output_type": "display_data",
          "data": {
            "image/png": "[encoded data removed]",
            "text/plain": [
              "<Figure size 1080x1080 with 2 Axes>"
            ]
          },
          "metadata": {
            "needs_background": "light"
          }
        },
        {
          "output_type": "stream",
          "name": "stdout",
          "text": [
            "############################\n",
            "KNeighborsClassifier\n",
            "############################\n",
            "f1_score: 0.7455621301775148\n",
            "--------------------------------------------\n",
            "precision_score: 0.75\n",
            "--------------------------------------------\n",
            "accuracy_score: 0.75\n",
            "--------------------------------------------\n",
            "recall_score: 0.75\n",
            "--------------------------------------------\n",
            "classification_report\n",
            "              precision    recall  f1-score   support\n",
            "\n",
            "           0       0.75      0.76      0.75        87\n",
            "           1       0.75      0.74      0.75        85\n",
            "\n",
            "    accuracy                           0.75       172\n",
            "   macro avg       0.75      0.75      0.75       172\n",
            "weighted avg       0.75      0.75      0.75       172\n",
            "\n"
          ]
        },
        {
          "output_type": "display_data",
          "data": {
            "text/plain": [
              "<Figure size 1440x1440 with 0 Axes>"
            ]
          },
          "metadata": {}
        },
        {
          "output_type": "display_data",
          "data": {
            "image/png": "[encoded data removed]",
            "text/plain": [
              "<Figure size 1080x1080 with 2 Axes>"
            ]
          },
          "metadata": {
            "needs_background": "light"
          }
        }
      ]
    },
    {
      "cell_type": "code",
      "source": [
        "print('Best_model :', best_model['model_name'] )\n",
        "print('f1_score = ',best_model['f1_score'])\n",
        "print('precison_score = ',best_model['precison_score'])\n",
        "print('accuracy_score = ',best_model['accuracy_score'])\n",
        "print('recall_score = ',best_model['recall_score'])\n",
        "print('classification_report : ')\n",
        "print(best_model['classification_report'])\n",
        "print('Confusion matrix ')\n",
        "plt.figure(figsize=(20, 20))\n",
        "fig, ax = plt.subplots(figsize=(15, 15))\n",
        "plot_confusion_matrix(best_model['classifier'], best_model['X_test'], best_model['y_test'], ax=ax)  \n",
        "plt.show()  "
      ],
      "metadata": {
        "colab": {
          "base_uri": "https://localhost:8080/",
          "height": 1000
        },
        "id": "Mtg_p0Op8Zct",
        "outputId": "0fa1e0b0-10fd-4cc8-881f-43476dda7a0b"
      },
      "execution_count": 990,
      "outputs": [
        {
          "output_type": "stream",
          "name": "stdout",
          "text": [
            "Best_model : ExtraTreesClassifier\n",
            "f1_score =  0.963855421686747\n",
            "precison_score =  0.9876543209876543\n",
            "accuracy_score =  0.9651162790697675\n",
            "recall_score =  0.9651162790697675\n",
            "classification_report : \n",
            "              precision    recall  f1-score   support\n",
            "\n",
            "           0       0.95      0.99      0.97        87\n",
            "           1       0.99      0.94      0.96        85\n",
            "\n",
            "    accuracy                           0.97       172\n",
            "   macro avg       0.97      0.96      0.97       172\n",
            "weighted avg       0.97      0.97      0.97       172\n",
            "\n",
            "Confusion matrix \n"
          ]
        },
        {
          "output_type": "display_data",
          "data": {
            "text/plain": [
              "<Figure size 1440x1440 with 0 Axes>"
            ]
          },
          "metadata": {}
        },
        {
          "output_type": "display_data",
          "data": {
            "image/png": "[encoded data removed]",
            "text/plain": [
              "<Figure size 1080x1080 with 2 Axes>"
            ]
          },
          "metadata": {
            "needs_background": "light"
          }
        }
      ]
    },
    {
      "cell_type": "code",
      "source": [
        "save_pipeline(best_model['classifier'], pipeline_name='best_model')"
      ],
      "metadata": {
        "id": "VBoogcXKH7Ch"
      },
      "execution_count": 991,
      "outputs": []
    },
    {
      "cell_type": "code",
      "source": [
        ""
      ],
      "metadata": {
        "id": "XyW8TomVIBU5"
      },
      "execution_count": 991,
      "outputs": []
    }
  ]
}